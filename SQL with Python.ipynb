{
 "cells": [
  {
   "cell_type": "markdown",
   "metadata": {},
   "source": [
    "# SQL"
   ]
  },
  {
   "cell_type": "markdown",
   "metadata": {},
   "source": [
    "# [Data Definition Language (DDL)](#Data-Definition-Language-:-DDL)\n",
    "\n",
    "- [Create](#CREATE)\n",
    "    - [Database](#Create-Database)\n",
    "    - [Table](#Create-Table)    \n",
    "    \n",
    "- [Alter](#ALTER)\n",
    "    - [Add Column](#Add-Column)\n",
    "    - [Modify Data_type Column](#Modify-Data_type-Column)\n",
    "    - [Change Column Name & Data_type](#Change-Column-Name-&-Data_type)\n",
    "    - [Drop Column](#Drop-Column)\n",
    "    - [Add Primary Key](#Add-Primary-Key)\n",
    "    - [Add Foreign Key](#Add-Foreign-Key)\n",
    "    - [Add Unique Key](#Add-Unique-Key)\n",
    "    - [Add Index](#Add-Index)\n",
    "    \n",
    "- [Drop](#DROP)\n",
    "    - [Database](#Drop-Database)\n",
    "    - [Table](#Drop-Table)\n",
    "    \n",
    "- [Rename](#RENAME)"
   ]
  },
  {
   "cell_type": "markdown",
   "metadata": {},
   "source": [
    "# [Data Manipulation Language (DML)](#Data-Manipulation-Language-:-DML)\n",
    "- [Select](#SELECT)\n",
    "- [Insert](#INSERT)\n",
    "- [Update](#UPDATE)\n",
    "- [Delete](#DELETE)"
   ]
  },
  {
   "cell_type": "markdown",
   "metadata": {},
   "source": [
    "# [PANDAS with SQL](#SQL-with-PANDAS)\n",
    "- [Load Data](#Load-Data)"
   ]
  },
  {
   "cell_type": "code",
   "execution_count": 1,
   "metadata": {},
   "outputs": [],
   "source": [
    "import pandas as pd\n",
    "import pymysql"
   ]
  },
  {
   "cell_type": "code",
   "execution_count": 2,
   "metadata": {
    "scrolled": true
   },
   "outputs": [
    {
     "name": "stdout",
     "output_type": "stream",
     "text": [
      "information_schema\n"
     ]
    }
   ],
   "source": [
    "con = pymysql.connect(host='localhost', user='root', passwd='', db='')\n",
    "cs = con.cursor()\n",
    "cs.execute('show databases')\n",
    "sv = cs.fetchone()\n",
    "print('%s' %sv)\n",
    "con.close()\n",
    "cs.close()"
   ]
  },
  {
   "cell_type": "markdown",
   "metadata": {},
   "source": [
    "# Data Definition Language : DDL"
   ]
  },
  {
   "cell_type": "markdown",
   "metadata": {},
   "source": [
    "## CREATE"
   ]
  },
  {
   "cell_type": "markdown",
   "metadata": {},
   "source": [
    "### Create Database"
   ]
  },
  {
   "cell_type": "code",
   "execution_count": 34,
   "metadata": {
    "scrolled": true
   },
   "outputs": [
    {
     "name": "stdout",
     "output_type": "stream",
     "text": [
      " !!! Table Exists !!! \n"
     ]
    }
   ],
   "source": [
    "try:\n",
    "    con = pymysql.connect(host='localhost', user='root', passwd='')\n",
    "    cs = con.cursor()\n",
    "    cs.execute(\"\"\"CREATE DATABASE register IF NOT EXIST\"\"\")\n",
    "    \n",
    "except pymysql.err.OperationalError:\n",
    "    print(\" !!! Can't Access a Databases !!! \")\n",
    "except pymysql.err.ProgrammingError:\n",
    "    print(\" !!! Table Exists !!! \")\n",
    "    \n",
    "else:\n",
    "    print('Create Completed')\n",
    "    con.close()\n",
    "    cs.close()"
   ]
  },
  {
   "cell_type": "markdown",
   "metadata": {},
   "source": [
    "### Create Table"
   ]
  },
  {
   "cell_type": "code",
   "execution_count": 38,
   "metadata": {
    "scrolled": true
   },
   "outputs": [
    {
     "name": "stdout",
     "output_type": "stream",
     "text": [
      "Create Completed\n"
     ]
    }
   ],
   "source": [
    "try:\n",
    "    con = pymysql.connect(host='localhost', user='root', passwd='', db='register')\n",
    "    cs = con.cursor()\n",
    "    \n",
    "    cs.execute(\"\"\"CREATE TABLE students\n",
    "                  (student_id INT(5) UNSIGNED NOT NULL,\n",
    "                  name VARCHAR(100),\n",
    "                  surname VARCHAR(100),\n",
    "                  PRIMARY KEY(student_id));\"\"\")\n",
    "    \n",
    "    cs.execute(\"\"\"CREATE TABLE teachers\n",
    "                  (teacher_id INT(5) UNSIGNED NOT NULL,\n",
    "                  name VARCHAR(100),\n",
    "                  surname VARCHAR(100),\n",
    "                  PRIMARY KEY(teacher_id));\"\"\")\n",
    "    \n",
    "except pymysql.err.OperationalError:\n",
    "    print(\" !!! Can't Access a Databases !!! \")\n",
    "except pymysql.err.ProgrammingError:\n",
    "    print(\" !!! SQL Syntax Not Correct !!! \")\n",
    "\n",
    "else:\n",
    "    print('Create Completed')\n",
    "    con.close()\n",
    "    cs.close()"
   ]
  },
  {
   "cell_type": "markdown",
   "metadata": {},
   "source": [
    "## ALTER"
   ]
  },
  {
   "cell_type": "markdown",
   "metadata": {},
   "source": [
    "### Add Column\n",
    "\n",
    "- MYSQL : ALTER TABLE table_name ADD column_name data_type,\n",
    "                                    ADD column_name data_type;\n",
    "                                    \n",
    "- SQL SERVER : ALTER TABLE table_name ADD column_name data_type,\n",
    "                                             column_name data_type;                               "
   ]
  },
  {
   "cell_type": "markdown",
   "metadata": {},
   "source": [
    "### Modify Data_type Column\n",
    "\n",
    "- MYSQL : ALTER TABLE table_name MODIFY column_name data_type,\n",
    "                                    MODIFY column_name data_type;\n",
    "                                    \n",
    "- SQL SERVER : ALTER TABLE table_name ALTER COLUMN column_name data_type,\n",
    "                                                      column_name data_type;"
   ]
  },
  {
   "cell_type": "markdown",
   "metadata": {},
   "source": [
    "### Change Column Name & Data_type\n",
    "\n",
    "- ALTER TABLE table_name CHANGE old_column new_column data_type,\n",
    "                         CHANGE old_column new_column data_type;"
   ]
  },
  {
   "cell_type": "markdown",
   "metadata": {},
   "source": [
    "### Drop Column\n",
    "\n",
    "- ALTER TABLE table_name DROP column_name, \n",
    "                         DROP column_name;"
   ]
  },
  {
   "cell_type": "markdown",
   "metadata": {},
   "source": [
    "### Add Primary Key\n",
    "\n",
    "- MYSQL : ALTER TABLE table_name ADD PRIMARY KEY(column_name);\n",
    "                                    \n",
    "- SQL SERVER : ALTER TABLE table_name ADD CONSTRAINT alias_primary_key_name PRIMARY KEY(column_name);"
   ]
  },
  {
   "cell_type": "markdown",
   "metadata": {},
   "source": [
    "### Add Foreign Key\n",
    "\n",
    "- MYSQL : ALTER TABLE table_name1 ADD FOREIGN KEY(attribute_name) REFERENCES table_name2(attribute_name);\n",
    "           \n",
    "- MYSQL & SQL SERVER : ALTER TABLE table_name1 ADD CONSTRAINT alias_foreign_key_name FOREIGN KEY (attribute_name) REFERENCES table_name2(attribute_name);"
   ]
  },
  {
   "cell_type": "markdown",
   "metadata": {},
   "source": [
    "### Add Unique Key\n",
    "\n",
    "- 1) ALTER TABLE table_name ADD UNIQUE(attribute_name);\n",
    "- 2) ALTER TABLE table_name ADD CONSTRAINT alias_name UNIQUE(attribute_name);"
   ]
  },
  {
   "cell_type": "markdown",
   "metadata": {},
   "source": [
    "### Add Index\n",
    "\n",
    "- CREATE INDEX alias_index_column_name ON column_name(attribute_column);"
   ]
  },
  {
   "cell_type": "markdown",
   "metadata": {},
   "source": [
    "## DROP"
   ]
  },
  {
   "cell_type": "markdown",
   "metadata": {},
   "source": [
    "### Drop Database\n",
    "\n",
    "- DROP DATABASE IF EXISTS database_name;"
   ]
  },
  {
   "cell_type": "markdown",
   "metadata": {},
   "source": [
    "### Drop Table\n",
    "- DROP TABLE IF EXISTS table_name;"
   ]
  },
  {
   "cell_type": "markdown",
   "metadata": {},
   "source": [
    "## RENAME"
   ]
  },
  {
   "cell_type": "markdown",
   "metadata": {},
   "source": [
    "- MySQL : \"\"\" RENAME TABLE old_table_name TO new_table_name; \"\"\"\n",
    "- SQL SERVER : \"\"\" SP_RENAME 'old_table_name', 'new_table_name'; \"\"\""
   ]
  },
  {
   "cell_type": "markdown",
   "metadata": {},
   "source": [
    "# Data Manipulation Language : DML\n"
   ]
  },
  {
   "cell_type": "markdown",
   "metadata": {},
   "source": [
    "## SELECT"
   ]
  },
  {
   "cell_type": "code",
   "execution_count": 3,
   "metadata": {
    "scrolled": false
   },
   "outputs": [
    {
     "name": "stdout",
     "output_type": "stream",
     "text": [
      "('01001', 'John', 23, 'GRADUTED')\n",
      "('14322', 'Peter', 26, 'GRADUTED')\n",
      "('14324', 'Tom', 25, 'GRADUTED')\n",
      "('24365', 'Sam', 27, 'GRADUTED')\n"
     ]
    }
   ],
   "source": [
    "try:\n",
    "    con = pymysql.connect(host='localhost', user='root', passwd='', db='test')\n",
    "    cs = con.cursor()\n",
    "    cs.execute('SELECT * FROM employees')\n",
    "    \n",
    "except pymysql.err.OperationalError:\n",
    "    print(\" !!! Can't Access a Databases !!! \")\n",
    "except pymysql.err.ProgrammingError:\n",
    "    print(\" !!! SQL Syntax Not Correct !!! \")\n",
    "    \n",
    "else:\n",
    "    data = cs.fetchall()\n",
    "    for i in data:\n",
    "        print(i)\n",
    "    con.close()\n",
    "    cs.close()"
   ]
  },
  {
   "cell_type": "markdown",
   "metadata": {},
   "source": [
    "## INSERT"
   ]
  },
  {
   "cell_type": "code",
   "execution_count": 17,
   "metadata": {},
   "outputs": [
    {
     "name": "stdout",
     "output_type": "stream",
     "text": [
      "Save Completed\n"
     ]
    }
   ],
   "source": [
    "table_name = \"employees\"\n",
    "\n",
    "try:\n",
    "    con = pymysql.connect(host='localhost', user='root', passwd='', db='test')\n",
    "    cs = con.cursor()\n",
    "    cs.execute(f\"\"\"INSERT INTO {table_name} VALUES\n",
    "                 (\"153213\", \"Tommy2\", 34, \"GRADUTED\"),\n",
    "                 (\"753267\", \"Mimy2\", 54, \"GRADUTED\");\"\"\")\n",
    "    \n",
    "except pymysql.err.OperationalError:\n",
    "    print(\" !!! Can't Access a Databases !!! \")\n",
    "except pymysql.err.ProgrammingError:\n",
    "    print(\" !!! SQL Syntax Not Correct !!! \")\n",
    "    con.rollback()\n",
    "    \n",
    "else:\n",
    "    con.commit()\n",
    "    print('Save Completed')\n",
    "    con.close()\n",
    "    cs.close()"
   ]
  },
  {
   "cell_type": "markdown",
   "metadata": {},
   "source": [
    "## UPDATE"
   ]
  },
  {
   "cell_type": "code",
   "execution_count": 23,
   "metadata": {},
   "outputs": [
    {
     "name": "stdout",
     "output_type": "stream",
     "text": [
      "Update Completed\n"
     ]
    }
   ],
   "source": [
    "table_name = \"employees\"\n",
    "\n",
    "try:\n",
    "    con = pymysql.connect(host='localhost', user='root', passwd='', db='test')\n",
    "    cs = con.cursor()\n",
    "    cs.execute(f\"\"\"UPDATE {table_name} SET\n",
    "                 FirstName = \"Tomy\",\n",
    "                 Age = 24\n",
    "                 WHERE FirstName = \"Tomino\";\"\"\")\n",
    "    \n",
    "except pymysql.err.OperationalError:\n",
    "    print(\" !!! Can't Access a Databases !!! \")\n",
    "except pymysql.err.ProgrammingError:\n",
    "    print(\" !!! SQL Syntax Not Correct !!! \")\n",
    "    con.rollback()\n",
    "\n",
    "else:\n",
    "    con.commit()\n",
    "    print('Update Completed')\n",
    "    con.close()\n",
    "    cs.close()"
   ]
  },
  {
   "cell_type": "markdown",
   "metadata": {},
   "source": [
    "## DELETE"
   ]
  },
  {
   "cell_type": "code",
   "execution_count": 25,
   "metadata": {},
   "outputs": [
    {
     "name": "stdout",
     "output_type": "stream",
     "text": [
      "Delete Completed\n"
     ]
    }
   ],
   "source": [
    "table_name = \"employees\"\n",
    "\n",
    "try:\n",
    "    con = pymysql.connect(host='localhost', user='root', passwd='', db='test')\n",
    "    cs = con.cursor()\n",
    "    cs.execute(f\"\"\"DELETE FROM {table_name}\n",
    "                   WHERE FirstName = \"Mimy2\";\"\"\")\n",
    "    \n",
    "except pymysql.err.OperationalError:\n",
    "    print(\" !!! Can't Access a Databases !!! \")\n",
    "except pymysql.err.ProgrammingError:\n",
    "    print(\" !!! SQL Syntax Not Correct !!! \")\n",
    "    con.rollback()\n",
    "    \n",
    "else:\n",
    "    con.commit()\n",
    "    print('Delete Completed')\n",
    "    con.close()\n",
    "    cs.close()"
   ]
  },
  {
   "cell_type": "markdown",
   "metadata": {},
   "source": [
    "## TRUNCATE\n",
    " \"\"\"TRUCATE TABLE table_name;\"\"\"\n",
    "\n",
    "    \n",
    "- TRUNCATE Preformance Better than DELETE"
   ]
  },
  {
   "cell_type": "markdown",
   "metadata": {},
   "source": [
    "# SQL with PANDAS"
   ]
  },
  {
   "cell_type": "markdown",
   "metadata": {},
   "source": [
    "## Load Data"
   ]
  },
  {
   "cell_type": "code",
   "execution_count": 26,
   "metadata": {
    "scrolled": true
   },
   "outputs": [
    {
     "data": {
      "text/html": [
       "<div>\n",
       "<style scoped>\n",
       "    .dataframe tbody tr th:only-of-type {\n",
       "        vertical-align: middle;\n",
       "    }\n",
       "\n",
       "    .dataframe tbody tr th {\n",
       "        vertical-align: top;\n",
       "    }\n",
       "\n",
       "    .dataframe thead th {\n",
       "        text-align: right;\n",
       "    }\n",
       "</style>\n",
       "<table border=\"1\" class=\"dataframe\">\n",
       "  <thead>\n",
       "    <tr style=\"text-align: right;\">\n",
       "      <th></th>\n",
       "      <th>EmployeeId</th>\n",
       "      <th>FirstName</th>\n",
       "      <th>Age</th>\n",
       "      <th>Certificate</th>\n",
       "    </tr>\n",
       "  </thead>\n",
       "  <tbody>\n",
       "    <tr>\n",
       "      <th>0</th>\n",
       "      <td>01001</td>\n",
       "      <td>John</td>\n",
       "      <td>23</td>\n",
       "      <td>GRADUTED</td>\n",
       "    </tr>\n",
       "    <tr>\n",
       "      <th>1</th>\n",
       "      <td>14322</td>\n",
       "      <td>Peter</td>\n",
       "      <td>26</td>\n",
       "      <td>GRADUTED</td>\n",
       "    </tr>\n",
       "    <tr>\n",
       "      <th>2</th>\n",
       "      <td>14324</td>\n",
       "      <td>Tom</td>\n",
       "      <td>25</td>\n",
       "      <td>GRADUTED</td>\n",
       "    </tr>\n",
       "    <tr>\n",
       "      <th>3</th>\n",
       "      <td>153213</td>\n",
       "      <td>Tomy</td>\n",
       "      <td>24</td>\n",
       "      <td>GRADUTED</td>\n",
       "    </tr>\n",
       "    <tr>\n",
       "      <th>4</th>\n",
       "      <td>24365</td>\n",
       "      <td>Sam</td>\n",
       "      <td>27</td>\n",
       "      <td>GRADUTED</td>\n",
       "    </tr>\n",
       "    <tr>\n",
       "      <th>5</th>\n",
       "      <td>453213</td>\n",
       "      <td>Tommy</td>\n",
       "      <td>34</td>\n",
       "      <td>GRADUTED</td>\n",
       "    </tr>\n",
       "    <tr>\n",
       "      <th>6</th>\n",
       "      <td>453267</td>\n",
       "      <td>Mimy</td>\n",
       "      <td>54</td>\n",
       "      <td>GRADUTED</td>\n",
       "    </tr>\n",
       "  </tbody>\n",
       "</table>\n",
       "</div>"
      ],
      "text/plain": [
       "  EmployeeId FirstName  Age Certificate\n",
       "0      01001      John   23    GRADUTED\n",
       "1      14322     Peter   26    GRADUTED\n",
       "2      14324       Tom   25    GRADUTED\n",
       "3     153213      Tomy   24    GRADUTED\n",
       "4      24365       Sam   27    GRADUTED\n",
       "5     453213     Tommy   34    GRADUTED\n",
       "6     453267      Mimy   54    GRADUTED"
      ]
     },
     "execution_count": 26,
     "metadata": {},
     "output_type": "execute_result"
    }
   ],
   "source": [
    "name_host = 'localhost'\n",
    "name_user = 'root'\n",
    "password_db = ''\n",
    "name_db = 'test'\n",
    "\n",
    "con = pymysql.connect(host=name_host, user=name_user, passwd=password_db, db=name_db)\n",
    "\n",
    "query_sql = 'select * from employees'\n",
    "\n",
    "df = pd.read_sql(query_sql, con=con)\n",
    "con.close()\n",
    "df"
   ]
  }
 ],
 "metadata": {
  "kernelspec": {
   "display_name": "Python 3",
   "language": "python",
   "name": "python3"
  },
  "language_info": {
   "codemirror_mode": {
    "name": "ipython",
    "version": 3
   },
   "file_extension": ".py",
   "mimetype": "text/x-python",
   "name": "python",
   "nbconvert_exporter": "python",
   "pygments_lexer": "ipython3",
   "version": "3.6.7"
  }
 },
 "nbformat": 4,
 "nbformat_minor": 2
}
